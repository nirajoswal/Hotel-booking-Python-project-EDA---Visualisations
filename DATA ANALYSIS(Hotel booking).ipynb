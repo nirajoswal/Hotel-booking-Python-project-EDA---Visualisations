#!/usr/bin/env python
# coding: utf-8

# In[60]:


#create the problem statement your client is facing and create assumptions,hypothesis and possible solutions
#importing libraries
import pandas as pd
import matplotlib.pyplot as plt
import seaborn as sns
import warnings
warnings.filterwarnings("ignore")


# # loading the dataset
# 

# In[61]:


df = pd.read_csv("hotel_bookings 2.csv")


# # exploratory da and da cleaning
# 

# In[62]:


df.head()


# In[63]:


df.tail(10)


# In[64]:


df.shape


# In[65]:


df.columns


# In[66]:


df.info()


# In[67]:


#we need to perform analysis and for that we need reservation status date column. currently it is in object and we need to convert it into date time field
df['reservation_status_date'] = pd.to_datetime(df['reservation_status_date'])


# In[68]:


df.describe(include = 'object') #returns columns which have datatype object


# In[69]:


for col in df.describe(include = 'object').columns:
    print(col)
    print(df[col].unique())


# In[70]:


df.isnull().sum()


# In[71]:


df.drop(['company','agent'],axis = 1,inplace = True) #removing agent column as it is not required and removing company as it has a huge data and difficult to handle
df.dropna(inplace = True) #temprory removing null values of columns that have null values i.e countries and children


# In[72]:


df.isnull().sum()


# In[73]:


df.describe() #children under max are 10 which are known as outliers which you can remove it if you want.


# In[ ]:





# In[74]:


#adr i.e average daily rate is required field and as you can see max is 5400 which is too high as it will not allow other value to see while plotting
df = df[df['adr']<5000]


# In[75]:


df.describe() # 5400 is the outlier which is now removed


# # DATA analysis & visualization

# In[76]:


#we need to know the cancelled percentage . whether it is normal or cancellation is more than normal.
cancelled_perc = df['is_canceled'].value_counts(normalize = True) #normalize because we want percentage wise
print(cancelled_perc)
# cancellation rate is 37% which is more than normal. lets plot itt down

plt.figure(figsize = (5,4))
plt.title("Reservation status count")
plt.bar(["Not cancelled","Cancelled"],df['is_canceled'].value_counts(),edgecolor = 'k',width = 0.7) #not normalised as we want counts


# In[77]:


#lets find reservation status count according to hotels
plt.figure(figsize=(8,4))
ax1 = sns.countplot(x='hotel',hue = 'is_canceled', data = df, palette = 'Blues')
legend_labels,_ = ax1. get_legend_handles_labels()
#ax1.legend(bbox_to_anchor(1,1))
plt.title("Reservation status in different hotels",size = 30)
plt.xlabel("Hotel")
plt.ylabel("Number of reservation")
#as you can see city hotel is having a lot more cancellation than what is called normal. overall city hotel is having more reservation than resort hotel.


# In[78]:


#from the above figure lets check cancellation status perc of both hotel
resort_hotel = df[df['hotel'] == 'Resort Hotel']
resort_hotel['is_canceled'].value_counts(normalize = True)
#cancellation rate is 28% apx which is low than city hotel still high comparatively


# In[79]:


city_hotel = df[df['hotel'] == 'City Hotel']
a = city_hotel['is_canceled'].value_counts(normalize = True)
print(a)
#cancellation rate is 41.7% which is higher than normal


# In[80]:


#calculating average daily rate on daily basis by using line chart. for this we need to use group by for reservation_date_status. 
resort_hotel = resort_hotel.groupby('reservation_status_date')[['adr']].mean()
city_hotel = city_hotel.groupby('reservation_status_date')[['adr']].mean()


# In[81]:


plt.figure(figsize = (20,8))
plt.title("Daily rate in City & Resort Hotel")
plt.plot(resort_hotel.index,resort_hotel['adr'],label = 'Resort Hotel')
plt.plot(city_hotel.index,city_hotel['adr'],label = 'City Hotel')
plt.legend(fontsize = 20)
plt.show()
#as you can see below we can see certain spikes which is due to weekends as prices are high.as prices are high normally of resort hotel hence less reservations overall. 


# In[82]:


#lets find reservation status per month. i.e which month has higher cancellation, which month has higher reservation etc for better understanding
df['month'] = df['reservation_status_date'].dt.month
plt.figure(figsize = (16,8))
ax1 = sns.countplot(x = 'month', hue = 'is_canceled' ,data = df ,palette = 'bright')
plt.title("Reservation status per month",size = 30)
plt.xlabel("Months")
plt.ylabel("Number of reservations")
plt.legend(["Not cancelled","Cancelled"])
#As you can see cancellation is high during month of january. maybe due to high rates. cancellation is also high during month of october.most no of reservation not cancelled is august and not cancelletation is also less 


# In[83]:


#maybe cancellation rate is high in month of jan due to high prices and low in august as prices are low. this is an assumption. to prove it we need to plot a graph
plt.figure(figsize = (15,8))
plt.title("Rates per month",fontsize = 30)
sns.barplot('month','adr',data = df[df['is_canceled']==1].groupby('month')[['adr']].sum().reset_index())
#plotted month vs adr on canceled = 1 basis. groupby month and sum of rates each month
plt.show()
#as you can see prices are high in jan hence cancellation is high and vice versa for august 


# In[84]:


#lets do an analysis that which country has high cancellation rate comapred to other country
cancelled_data = df[df['is_canceled'] == 1] #storing those records which are cancelled reservations
top_10_country = cancelled_data['country'].value_counts()[:10]#taking countries into consideration of cancelled data and displaying top 10 only as we cant take each country in consideration
plt.figure(figsize = (8,8))
plt.pie(top_10_country, autopct = '%.2f', labels = top_10_country.index)
plt.title("Reservation status of top 10 countries")
plt.show()
#as we can see portugal haas the highestt cancellation rate followed by great britain and some focus should be made there 


# In[85]:


#lets make an analysis from where reservation was made. was it online,offline or something else
df['market_segment'].value_counts()
#most booking is madde from online agents websites


# In[86]:


df['market_segment'].value_counts(normalize = True) # if want in %


# In[87]:


#lets check what is cancellation rate in each booking mode
cancelled_data['market_segment'].value_counts(normalize = True)
#for same mode cancellation rate is also made. hence some solutions should be done


# In[88]:


#lets do an analysis by taking adr mean into consideration on cancelled data and not cancelled data so that we can justify that reservation was cancelled due to high adr
cancelled_df_adr = cancelled_data.groupby('reservation_status_date')[['adr']].mean()
cancelled_df_adr.reset_index(inplace = True)
cancelled_df_adr.sort_values('reservation_status_date',inplace = True)

not_cancelled_data = df[df['is_canceled'] == 0]
not_cancelled_df_adr = not_cancelled_data.groupby('reservation_status_date')[['adr']].mean()
not_cancelled_df_adr.reset_index(inplace = True)
not_cancelled_df_adr.sort_values('reservation_status_date',inplace = True)

plt.figure(figsize = (20,6))
plt.title('Average daily rate',size = 30)
plt.plot(not_cancelled_df_adr['reservation_status_date'],not_cancelled_df_adr['adr'],label = 'not cancelled')
plt.plot(cancelled_df_adr['reservation_status_date'],cancelled_df_adr['adr'],label = 'cancelled')
plt.legend()


# In[89]:


#above data chart is bit messy hency taking 2016 and 2017 into consideration
cancelled_df_adr = cancelled_df_adr[(cancelled_df_adr['reservation_status_date']>='2016') & (cancelled_df_adr['reservation_status_date']<='2017')]                           
not_cancelled_df_adr = not_cancelled_df_adr[(not_cancelled_df_adr['reservation_status_date']>='2016') & (not_cancelled_df_adr['reservation_status_date']<='2017')]


# In[90]:



plt.figure(figsize = (20,6))
plt.title('Average daily rate',size = 30)
plt.plot(not_cancelled_df_adr['reservation_status_date'],not_cancelled_df_adr['adr'],label = 'not cancelled')
plt.plot(cancelled_df_adr['reservation_status_date'],cancelled_df_adr['adr'],label = 'cancelled')
plt.legend()


# In[93]:


#create a simple report stating problem and solution through bars and charts that you have created above.


# In[94]:


#DATA analysis python project to find solution to the problem occuring in Hotels.
#problem statement:There has been significant increase in cancellation of hotel bookings from 2015 to 2018.


# In[ ]:




